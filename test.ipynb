{
 "cells": [
  {
   "cell_type": "code",
   "execution_count": 8,
   "metadata": {},
   "outputs": [],
   "source": [
    "from main import *"
   ]
  },
  {
   "cell_type": "code",
   "execution_count": 11,
   "metadata": {},
   "outputs": [
    {
     "name": "stdout",
     "output_type": "stream",
     "text": [
      "文本：我没有开心\n",
      "决策树：正向\n",
      "朴素贝叶斯：正向\n",
      "多重感知机：正向\n",
      "BERT：负向\n"
     ]
    }
   ],
   "source": [
    "text = '我没有开心'\n",
    "\n",
    "\n",
    "print('文本：{}'.format(text))\n",
    "res = predict(text)\n",
    "models = ['决策树', '朴素贝叶斯', '多重感知机', 'BERT']\n",
    "for i in range(4):\n",
    "    if res[i]==1:\n",
    "        print('{}：正向'.format(models[i]))\n",
    "    else:\n",
    "        print('{}：负向'.format(models[i]))"
   ]
  }
 ],
 "metadata": {
  "kernelspec": {
   "display_name": "nlp",
   "language": "python",
   "name": "python3"
  },
  "language_info": {
   "codemirror_mode": {
    "name": "ipython",
    "version": 3
   },
   "file_extension": ".py",
   "mimetype": "text/x-python",
   "name": "python",
   "nbconvert_exporter": "python",
   "pygments_lexer": "ipython3",
   "version": "3.7.1"
  }
 },
 "nbformat": 4,
 "nbformat_minor": 2
}
